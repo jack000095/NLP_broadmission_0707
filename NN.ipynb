{
 "cells": [
  {
   "cell_type": "code",
   "execution_count": 19,
   "metadata": {},
   "outputs": [],
   "source": [
    "import numpy"
   ]
  },
  {
   "cell_type": "code",
   "execution_count": 115,
   "metadata": {
    "collapsed": true
   },
   "outputs": [],
   "source": [
    "def sigmoid(x):\n",
    "    return 1/(1 + numpy.exp(-x))\n",
    "\n",
    "def NN(m1, m2, w1, w2, b):\n",
    "    z = m1 * w1 + m2 * w2 + b\n",
    "    return sigmoid(z)"
   ]
  },
  {
   "cell_type": "code",
   "execution_count": 26,
   "metadata": {},
   "outputs": [],
   "source": [
    "w1 = numpy.random.randn()\n",
    "w2 = numpy.random.randn()\n",
    "b = numpy.random.randn()"
   ]
  },
  {
   "cell_type": "code",
   "execution_count": 27,
   "metadata": {},
   "outputs": [
    {
     "data": {
      "text/plain": [
       "-5.141035278740404"
      ]
     },
     "execution_count": 27,
     "metadata": {},
     "output_type": "execute_result"
    }
   ],
   "source": [
    "NN(3, 1.5, w1, w2, b)"
   ]
  },
  {
   "cell_type": "code",
   "execution_count": 108,
   "metadata": {
    "collapsed": true
   },
   "outputs": [],
   "source": [
    "phrases = ['看起來像','我猜是','我想是','看起來像是','猜測....']\n",
    "data = [[3, 1.5, 1],[2,1,0],[4,1.5,1],[3,1,0],[3.5,5,1],[2,0.5,0]]"
   ]
  },
  {
   "cell_type": "code",
   "execution_count": 109,
   "metadata": {},
   "outputs": [],
   "source": [
    "rand_data = data[numpy.random.randint(len(data))]"
   ]
  },
  {
   "cell_type": "code",
   "execution_count": 110,
   "metadata": {},
   "outputs": [],
   "source": [
    "m1 = rand_data[0]\n",
    "m2 = rand_data[1]"
   ]
  },
  {
   "cell_type": "code",
   "execution_count": 111,
   "metadata": {},
   "outputs": [
    {
     "data": {
      "text/plain": [
       "'這個猜測....藍色==真的是藍色'"
      ]
     },
     "execution_count": 111,
     "metadata": {},
     "output_type": "execute_result"
    }
   ],
   "source": [
    "prediction = NN(m1, m2, w1, w2, b)\n",
    "prediction_text = ['藍色','紅色'][int(numpy.round(prediction))]\n",
    "content = numpy.random.choice(phrases) + \"\" + prediction_text\n",
    "out = ('這個' + content + \"==真的是\" + [\"藍色\",\"紅色\"][rand_data[2]])\n",
    "out"
   ]
  },
  {
   "cell_type": "code",
   "execution_count": 136,
   "metadata": {},
   "outputs": [],
   "source": [
    "import numpy as np"
   ]
  },
  {
   "cell_type": "code",
   "execution_count": 137,
   "metadata": {},
   "outputs": [],
   "source": [
    "X = np.array([[1,0,1,0],[1,0,1,1],[0,1,0,1]])\n",
    "y = np.array([[1],[1],[0]])"
   ]
  },
  {
   "cell_type": "code",
   "execution_count": 150,
   "metadata": {},
   "outputs": [],
   "source": [
    "epoch = 100\n",
    "lr = 0.1\n",
    "inputlayer_neurons = X.shape[1]\n",
    "hiddenlayer_neurons = 3\n",
    "output_neurons = 1"
   ]
  },
  {
   "cell_type": "code",
   "execution_count": 165,
   "metadata": {},
   "outputs": [],
   "source": [
    "wh = np.random.uniform(size=(inputlayer_neurons, hiddenlayer_neurons))\n",
    "bh = np.random.uniform(size=(1, hiddenlayer_neurons))\n",
    "wout = np.random.uniform(size=(hiddenlayer_neurons, output_neurons))\n",
    "bout = np.random.uniform(size=(1, output_neurons))"
   ]
  },
  {
   "cell_type": "code",
   "execution_count": 167,
   "metadata": {},
   "outputs": [
    {
     "name": "stdout",
     "output_type": "stream",
     "text": [
      "實際值：\n",
      " [[1]\n",
      " [1]\n",
      " [0]] \n",
      "\n",
      "預測值：\n",
      " [[0.86517996]\n",
      " [0.83238851]\n",
      " [0.40971631]] \n",
      "\n"
     ]
    }
   ],
   "source": [
    "for i in range(epoch):\n",
    "    #Forward Propogation\n",
    "    hidden_layer_input1 = np.dot(X,wh)\n",
    "    hidden_layer_input = hidden_layer_input1 + bh\n",
    "    hiddenlayer_activations = sigmoid(hidden_layer_input)\n",
    "    output_layer_input1 = np.dot(hiddenlayer_activations, wout)\n",
    "    output_layer_input = output_layer_input1 + bout\n",
    "    output = sigmoid(output_layer_input)\n",
    "    \n",
    "    #Backpropagation\n",
    "    E = y-output\n",
    "    back_output_layer = sigmoid(output)\n",
    "    back_hidden_layer = sigmoid(hiddenlayer_activations)\n",
    "    d_output = E * back_output_layer\n",
    "    Error_at_hidden_layer = d_output.dot(wout.T)\n",
    "    d_hiddenlayer = Error_at_hidden_layer * back_hidden_layer\n",
    "    wout += hiddenlayer_activations.T.dot(d_output) * lr\n",
    "    bout += np.sum(d_output, axis=0, keepdims=True) * lr\n",
    "    wh += X.T.dot(d_hiddenlayer) * lr\n",
    "    bh += np.sum(d_hiddenlayer, axis=0, keepdims=True) * lr\n",
    "\n",
    "print('實際值：\\n', y, '\\n')\n",
    "print('預測值：\\n', output, '\\n')"
   ]
  },
  {
   "cell_type": "code",
   "execution_count": null,
   "metadata": {
    "collapsed": true
   },
   "outputs": [],
   "source": []
  },
  {
   "cell_type": "code",
   "execution_count": null,
   "metadata": {
    "collapsed": true
   },
   "outputs": [],
   "source": []
  },
  {
   "cell_type": "code",
   "execution_count": null,
   "metadata": {
    "collapsed": true
   },
   "outputs": [],
   "source": []
  },
  {
   "cell_type": "code",
   "execution_count": null,
   "metadata": {
    "collapsed": true
   },
   "outputs": [],
   "source": []
  },
  {
   "cell_type": "code",
   "execution_count": null,
   "metadata": {
    "collapsed": true
   },
   "outputs": [],
   "source": []
  },
  {
   "cell_type": "code",
   "execution_count": null,
   "metadata": {
    "collapsed": true
   },
   "outputs": [],
   "source": []
  }
 ],
 "metadata": {
  "kernelspec": {
   "display_name": "Python 3",
   "language": "python",
   "name": "python3"
  },
  "language_info": {
   "codemirror_mode": {
    "name": "ipython",
    "version": 3
   },
   "file_extension": ".py",
   "mimetype": "text/x-python",
   "name": "python",
   "nbconvert_exporter": "python",
   "pygments_lexer": "ipython3",
   "version": "3.6.3"
  }
 },
 "nbformat": 4,
 "nbformat_minor": 2
}
